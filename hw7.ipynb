{
 "cells": [
  {
   "cell_type": "code",
   "execution_count": 1,
   "metadata": {},
   "outputs": [
    {
     "name": "stdout",
     "output_type": "stream",
     "text": [
      "Example tokenization and embedding of prompts\n",
      "\n",
      "1. aaaaabbbaaa\n",
      "\n",
      "Tokens: torch.Size([11]) tensor([10, 10, 10, 10, 10, 11, 11, 11, 10, 10, 10], dtype=torch.int32)\n",
      "\n",
      "Embeddings: torch.Size([96, 128]) tensor([[ 1.1094,  1.2869,  1.5717,  ...,  0.8383,  0.4019,  0.9553],\n",
      "        [ 1.9509,  0.8272,  2.3334,  ...,  0.8383,  0.4020,  0.9553],\n",
      "        [ 2.0187, -0.1292,  2.5588,  ...,  0.8383,  0.4021,  0.9553],\n",
      "        ...,\n",
      "        [ 0.0859, -1.6921,  1.7134,  ...,  0.8634, -0.7830,  1.5570],\n",
      "        [ 0.7889, -1.0401,  2.3477,  ...,  0.8634, -0.7829,  1.5570],\n",
      "        [ 1.7175, -1.2794,  3.1772,  ...,  0.8634, -0.7827,  1.5570]])\n",
      "\n",
      "2. ccdddcc\n",
      "\n",
      "Tokens: torch.Size([7]) tensor([12, 12, 13, 13, 13, 12, 12], dtype=torch.int32)\n",
      "\n",
      "Embeddings: torch.Size([96, 128]) tensor([[ 1.4990,  2.5824, -0.1531,  ...,  0.9696,  0.0856,  0.3651],\n",
      "        [ 2.3405,  2.1227,  0.6086,  ...,  0.9696,  0.0857,  0.3651],\n",
      "        [ 0.7572, -0.3391, -0.0713,  ...,  2.0113,  1.1177,  2.1963],\n",
      "        ...,\n",
      "        [ 0.0859, -1.6921,  1.7134,  ...,  0.8634, -0.7830,  1.5570],\n",
      "        [ 0.7889, -1.0401,  2.3477,  ...,  0.8634, -0.7829,  1.5570],\n",
      "        [ 1.7175, -1.2794,  3.1772,  ...,  0.8634, -0.7827,  1.5570]])\n",
      "\n",
      "3. eeeeeeefffffff\n",
      "\n",
      "Tokens: torch.Size([14]) tensor([14, 14, 14, 14, 14, 14, 14, 15, 15, 15, 15, 15, 15, 15],\n",
      "       dtype=torch.int32)\n",
      "\n",
      "Embeddings: torch.Size([96, 128]) tensor([[-0.8790,  0.1903,  0.0391,  ...,  1.5458,  1.1315,  2.2654],\n",
      "        [-0.0375, -0.2693,  0.8008,  ...,  1.5458,  1.1317,  2.2654],\n",
      "        [ 0.0303, -1.2258,  1.0261,  ...,  1.5458,  1.1318,  2.2654],\n",
      "        ...,\n",
      "        [ 0.0859, -1.6921,  1.7134,  ...,  0.8634, -0.7830,  1.5570],\n",
      "        [ 0.7889, -1.0401,  2.3477,  ...,  0.8634, -0.7829,  1.5570],\n",
      "        [ 1.7175, -1.2794,  3.1772,  ...,  0.8634, -0.7827,  1.5570]])\n"
     ]
    }
   ],
   "source": [
    "from MrML import Tokenizer, Embedder\n",
    "from vocab import vocab, vocab_len, PAD, SOS, EOS\n",
    "\n",
    "BATCH_SIZE = 4\n",
    "\n",
    "# Input size is 3n,\n",
    "# For efficiency make seq_len a multiple of 8\n",
    "# 3 * 8 * 4 means our max n can be 8 * 4 (32)\n",
    "SEQ_LEN = 96 \n",
    "\n",
    "# d_model doesn't need to bee to large because our tokens are just single\n",
    "# characters and don't have complex meanings\n",
    "D_MODEL = 128\n",
    "\n",
    "# The tokenizer converts text to a tensor of token int values\n",
    "tokenizer = Tokenizer(vocab=vocab, PAD=PAD, SOS=SOS, EOS=EOS)\n",
    "\n",
    "# The embedder converts token sequences to vectorized embeddings\n",
    "embedder = Embedder(seq_len=SEQ_LEN, d_model=D_MODEL, vocab_len=vocab_len)\n",
    "\n",
    "# Some example prompts to demonstrate that the tokenizer and embedder work\n",
    "example_prompts = [\n",
    "    \"aaaaabbbaaa\",\n",
    "    \"ccdddcc\",\n",
    "    \"eeeeeeefffffff\"\n",
    "]\n",
    "\n",
    "# Print a title for the program\n",
    "print(\"Example tokenization and embedding of prompts\")\n",
    "\n",
    "# Print each example prompt's number, text, tokens, and embedding\n",
    "for i, prompt in enumerate(example_prompts):\n",
    "    print(f\"\\n{i + 1}. {prompt}\")\n",
    "    \n",
    "    tokens = tokenizer.tokenize(prompt)\n",
    "    print(\"\\nTokens:\", tokens.size(), tokens)\n",
    "\n",
    "    embeddings = embedder.embed(tokens, PAD=PAD, window_size=SEQ_LEN)\n",
    "    print(\"\\nEmbeddings:\", embeddings.size(), embeddings)\n"
   ]
  }
 ],
 "metadata": {
  "kernelspec": {
   "display_name": "3.10.16",
   "language": "python",
   "name": "python3"
  },
  "language_info": {
   "codemirror_mode": {
    "name": "ipython",
    "version": 3
   },
   "file_extension": ".py",
   "mimetype": "text/x-python",
   "name": "python",
   "nbconvert_exporter": "python",
   "pygments_lexer": "ipython3",
   "version": "3.10.16"
  }
 },
 "nbformat": 4,
 "nbformat_minor": 2
}
